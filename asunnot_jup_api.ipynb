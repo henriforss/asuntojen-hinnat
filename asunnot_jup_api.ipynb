{
 "cells": [
  {
   "cell_type": "code",
   "execution_count": 1,
   "id": "db94e03f",
   "metadata": {},
   "outputs": [
    {
     "name": "stdout",
     "output_type": "stream",
     "text": [
      "dict_keys(['class', 'label', 'source', 'updated', 'id', 'size', 'dimension', 'value', 'role', 'version', 'extension'])\n"
     ]
    }
   ],
   "source": [
    "import requests\n",
    "\n",
    "API_URL = \"https://pxweb2.stat.fi:443/PxWeb/api/v1/fi/StatFin/velk/statfin_velk_pxt_113n.px\"\n",
    "\n",
    "params = {\n",
    "  \"query\": [\n",
    "    {\n",
    "      \"code\": \"Asuntokunnan rakenne\",\n",
    "      \"selection\": {\n",
    "        \"filter\": \"item\",\n",
    "        \"values\": [\n",
    "          \"s\"\n",
    "        ]\n",
    "      }\n",
    "    },\n",
    "    {\n",
    "      \"code\": \"Tiedot\",\n",
    "      \"selection\": {\n",
    "        \"filter\": \"item\",\n",
    "        \"values\": [\n",
    "          \"asuvelat\"\n",
    "        ]\n",
    "      }\n",
    "    },\n",
    "    {\n",
    "      \"code\": \"Vuosi\",\n",
    "      \"selection\": {\n",
    "        \"filter\": \"item\",\n",
    "        \"values\": [\n",
    "          \"2015\",\n",
    "          \"2016\",\n",
    "          \"2017\",\n",
    "          \"2018\",\n",
    "          \"2019\",\n",
    "          \"2020\"\n",
    "        ]\n",
    "      }\n",
    "    },\n",
    "    {\n",
    "      \"code\": \"Suuralue\",\n",
    "      \"selection\": {\n",
    "        \"filter\": \"item\",\n",
    "        \"values\": [\n",
    "          \"SSS\"\n",
    "        ]\n",
    "      }\n",
    "    }\n",
    "  ],\n",
    "  \"response\": {\n",
    "    \"format\": \"json-stat2\"\n",
    "  }\n",
    "}\n",
    "\n",
    "response = requests.post(API_URL, json=params)\n",
    "\n",
    "response = response.json()\n",
    "\n",
    "print(response.keys())"
   ]
  },
  {
   "cell_type": "code",
   "execution_count": 11,
   "id": "5eee84c8",
   "metadata": {},
   "outputs": [
    {
     "name": "stdout",
     "output_type": "stream",
     "text": [
      "class dataset\n",
      "label Asuntokuntien velat muuttujina Asuntokunnan rakenne, Tiedot, Vuosi ja Suuralue\n",
      "source Velkaantumistilasto, Tilastokeskus\n",
      "updated 2021-12-17T06.00.00Z\n",
      "id ['Asuntokunnan rakenne', 'Tiedot', 'Vuosi', 'Suuralue']\n",
      "size [1, 1, 6, 1]\n",
      "dimension {'Asuntokunnan rakenne': {'label': 'Asuntokunnan rakenne', 'category': {'index': {'s': 0}, 'label': {'s': 'Yhteensä'}}, 'link': {'describedby': [{'extension': {'Asuntokunnan rakenne': 'SCALE-TYPE=nominal'}}]}}, 'Tiedot': {'label': 'Tiedot', 'category': {'index': {'asuvelat': 0}, 'label': {'asuvelat': 'Asuntovelat, euroa'}, 'unit': {'asuvelat': {'base': 'euro', 'decimals': 0}}}}, 'Vuosi': {'label': 'Vuosi', 'category': {'index': {'2015': 0, '2016': 1, '2017': 2, '2018': 3, '2019': 4, '2020': 5}, 'label': {'2015': '2015', '2016': '2016', '2017': '2017', '2018': '2018', '2019': '2019', '2020': '2020'}}}, 'Suuralue': {'label': 'Suuralue', 'category': {'index': {'SSS': 0}, 'label': {'SSS': 'Yhteensä'}}, 'link': {'describedby': [{'extension': {'Suuralue': 'SCALE-TYPE=nominal'}}]}}}\n",
      "value [86942146426, 88229757434, 88881825583, 88945502741, 89829746655, 92210849521]\n",
      "role {'time': ['Vuosi'], 'metric': ['Tiedot']}\n",
      "version 2.0\n",
      "extension {'px': {'tableid': 'statfin_velk_pxt_113n', 'decimals': 0}}\n"
     ]
    }
   ],
   "source": [
    "for key, values in response.items():\n",
    "    print(key, values)"
   ]
  },
  {
   "cell_type": "code",
   "execution_count": 3,
   "id": "e747107d",
   "metadata": {},
   "outputs": [
    {
     "name": "stdout",
     "output_type": "stream",
     "text": [
      "[86942146426, 88229757434, 88881825583, 88945502741, 89829746655, 92210849521]\n"
     ]
    }
   ],
   "source": [
    "values_list = response[\"value\"]\n",
    "\n",
    "print(values_list)"
   ]
  },
  {
   "cell_type": "code",
   "execution_count": 9,
   "id": "79af8194",
   "metadata": {},
   "outputs": [
    {
     "data": {
      "text/plain": [
       "{'2015': '2015',\n",
       " '2016': '2016',\n",
       " '2017': '2017',\n",
       " '2018': '2018',\n",
       " '2019': '2019',\n",
       " '2020': '2020'}"
      ]
     },
     "execution_count": 9,
     "metadata": {},
     "output_type": "execute_result"
    }
   ],
   "source": [
    "years = response[\"dimension\"][\"Vuosi\"][\"category\"][\"label\"]\n",
    "\n",
    "years"
   ]
  },
  {
   "cell_type": "code",
   "execution_count": 13,
   "id": "91280048",
   "metadata": {},
   "outputs": [
    {
     "name": "stdout",
     "output_type": "stream",
     "text": [
      "['2015', '2016', '2017', '2018', '2019', '2020']\n"
     ]
    }
   ],
   "source": [
    "years_list = []\n",
    "\n",
    "for key, value in years.items():\n",
    "    years_list.append(value)\n",
    "    \n",
    "print(years_list)"
   ]
  },
  {
   "cell_type": "code",
   "execution_count": 14,
   "id": "ba7b688f",
   "metadata": {},
   "outputs": [],
   "source": [
    "import pandas as pd"
   ]
  },
  {
   "cell_type": "code",
   "execution_count": 18,
   "id": "1f3d0e03",
   "metadata": {},
   "outputs": [
    {
     "data": {
      "text/html": [
       "<div>\n",
       "<style scoped>\n",
       "    .dataframe tbody tr th:only-of-type {\n",
       "        vertical-align: middle;\n",
       "    }\n",
       "\n",
       "    .dataframe tbody tr th {\n",
       "        vertical-align: top;\n",
       "    }\n",
       "\n",
       "    .dataframe thead th {\n",
       "        text-align: right;\n",
       "    }\n",
       "</style>\n",
       "<table border=\"1\" class=\"dataframe\">\n",
       "  <thead>\n",
       "    <tr style=\"text-align: right;\">\n",
       "      <th></th>\n",
       "      <th>0</th>\n",
       "      <th>1</th>\n",
       "      <th>2</th>\n",
       "      <th>3</th>\n",
       "      <th>4</th>\n",
       "      <th>5</th>\n",
       "    </tr>\n",
       "  </thead>\n",
       "  <tbody>\n",
       "    <tr>\n",
       "      <th>0</th>\n",
       "      <td>2015</td>\n",
       "      <td>2016</td>\n",
       "      <td>2017</td>\n",
       "      <td>2018</td>\n",
       "      <td>2019</td>\n",
       "      <td>2020</td>\n",
       "    </tr>\n",
       "    <tr>\n",
       "      <th>1</th>\n",
       "      <td>86942146426</td>\n",
       "      <td>88229757434</td>\n",
       "      <td>88881825583</td>\n",
       "      <td>88945502741</td>\n",
       "      <td>89829746655</td>\n",
       "      <td>92210849521</td>\n",
       "    </tr>\n",
       "  </tbody>\n",
       "</table>\n",
       "</div>"
      ],
      "text/plain": [
       "             0            1            2            3            4  \\\n",
       "0         2015         2016         2017         2018         2019   \n",
       "1  86942146426  88229757434  88881825583  88945502741  89829746655   \n",
       "\n",
       "             5  \n",
       "0         2020  \n",
       "1  92210849521  "
      ]
     },
     "execution_count": 18,
     "metadata": {},
     "output_type": "execute_result"
    }
   ],
   "source": [
    "df = pd.DataFrame([years_list, values_list])\n",
    "\n",
    "df"
   ]
  },
  {
   "cell_type": "code",
   "execution_count": 19,
   "id": "234c9720",
   "metadata": {},
   "outputs": [
    {
     "data": {
      "text/html": [
       "<div>\n",
       "<style scoped>\n",
       "    .dataframe tbody tr th:only-of-type {\n",
       "        vertical-align: middle;\n",
       "    }\n",
       "\n",
       "    .dataframe tbody tr th {\n",
       "        vertical-align: top;\n",
       "    }\n",
       "\n",
       "    .dataframe thead th {\n",
       "        text-align: right;\n",
       "    }\n",
       "</style>\n",
       "<table border=\"1\" class=\"dataframe\">\n",
       "  <thead>\n",
       "    <tr style=\"text-align: right;\">\n",
       "      <th></th>\n",
       "      <th>0</th>\n",
       "      <th>1</th>\n",
       "    </tr>\n",
       "  </thead>\n",
       "  <tbody>\n",
       "    <tr>\n",
       "      <th>0</th>\n",
       "      <td>2015</td>\n",
       "      <td>86942146426</td>\n",
       "    </tr>\n",
       "    <tr>\n",
       "      <th>1</th>\n",
       "      <td>2016</td>\n",
       "      <td>88229757434</td>\n",
       "    </tr>\n",
       "    <tr>\n",
       "      <th>2</th>\n",
       "      <td>2017</td>\n",
       "      <td>88881825583</td>\n",
       "    </tr>\n",
       "    <tr>\n",
       "      <th>3</th>\n",
       "      <td>2018</td>\n",
       "      <td>88945502741</td>\n",
       "    </tr>\n",
       "    <tr>\n",
       "      <th>4</th>\n",
       "      <td>2019</td>\n",
       "      <td>89829746655</td>\n",
       "    </tr>\n",
       "    <tr>\n",
       "      <th>5</th>\n",
       "      <td>2020</td>\n",
       "      <td>92210849521</td>\n",
       "    </tr>\n",
       "  </tbody>\n",
       "</table>\n",
       "</div>"
      ],
      "text/plain": [
       "      0            1\n",
       "0  2015  86942146426\n",
       "1  2016  88229757434\n",
       "2  2017  88881825583\n",
       "3  2018  88945502741\n",
       "4  2019  89829746655\n",
       "5  2020  92210849521"
      ]
     },
     "execution_count": 19,
     "metadata": {},
     "output_type": "execute_result"
    }
   ],
   "source": [
    "df = df.transpose()\n",
    "\n",
    "df"
   ]
  },
  {
   "cell_type": "code",
   "execution_count": 20,
   "id": "665ccb10",
   "metadata": {},
   "outputs": [
    {
     "data": {
      "text/html": [
       "<div>\n",
       "<style scoped>\n",
       "    .dataframe tbody tr th:only-of-type {\n",
       "        vertical-align: middle;\n",
       "    }\n",
       "\n",
       "    .dataframe tbody tr th {\n",
       "        vertical-align: top;\n",
       "    }\n",
       "\n",
       "    .dataframe thead th {\n",
       "        text-align: right;\n",
       "    }\n",
       "</style>\n",
       "<table border=\"1\" class=\"dataframe\">\n",
       "  <thead>\n",
       "    <tr style=\"text-align: right;\">\n",
       "      <th></th>\n",
       "      <th>years</th>\n",
       "      <th>values</th>\n",
       "    </tr>\n",
       "  </thead>\n",
       "  <tbody>\n",
       "    <tr>\n",
       "      <th>0</th>\n",
       "      <td>2015</td>\n",
       "      <td>86942146426</td>\n",
       "    </tr>\n",
       "    <tr>\n",
       "      <th>1</th>\n",
       "      <td>2016</td>\n",
       "      <td>88229757434</td>\n",
       "    </tr>\n",
       "    <tr>\n",
       "      <th>2</th>\n",
       "      <td>2017</td>\n",
       "      <td>88881825583</td>\n",
       "    </tr>\n",
       "    <tr>\n",
       "      <th>3</th>\n",
       "      <td>2018</td>\n",
       "      <td>88945502741</td>\n",
       "    </tr>\n",
       "    <tr>\n",
       "      <th>4</th>\n",
       "      <td>2019</td>\n",
       "      <td>89829746655</td>\n",
       "    </tr>\n",
       "    <tr>\n",
       "      <th>5</th>\n",
       "      <td>2020</td>\n",
       "      <td>92210849521</td>\n",
       "    </tr>\n",
       "  </tbody>\n",
       "</table>\n",
       "</div>"
      ],
      "text/plain": [
       "  years       values\n",
       "0  2015  86942146426\n",
       "1  2016  88229757434\n",
       "2  2017  88881825583\n",
       "3  2018  88945502741\n",
       "4  2019  89829746655\n",
       "5  2020  92210849521"
      ]
     },
     "execution_count": 20,
     "metadata": {},
     "output_type": "execute_result"
    }
   ],
   "source": [
    "df = df.rename(columns={0: \"years\", 1: \"values\"})\n",
    "\n",
    "df"
   ]
  },
  {
   "cell_type": "code",
   "execution_count": null,
   "id": "51dfc18e",
   "metadata": {},
   "outputs": [],
   "source": []
  }
 ],
 "metadata": {
  "kernelspec": {
   "display_name": "venv",
   "language": "python",
   "name": "venv"
  },
  "language_info": {
   "codemirror_mode": {
    "name": "ipython",
    "version": 3
   },
   "file_extension": ".py",
   "mimetype": "text/x-python",
   "name": "python",
   "nbconvert_exporter": "python",
   "pygments_lexer": "ipython3",
   "version": "3.9.1"
  }
 },
 "nbformat": 4,
 "nbformat_minor": 5
}
